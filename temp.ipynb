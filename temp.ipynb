{
 "cells": [
  {
   "cell_type": "code",
   "execution_count": 7,
   "metadata": {},
   "outputs": [
    {
     "name": "stdout",
     "output_type": "stream",
     "text": [
      "{'user': {'created_at': '2021-09-11T11:12:59.000Z', 'default_profile_image': False, 'description': 'Hoping I wont have to deactivate this account. Again.\\n\\nMe: https://t.co/CB1IFda94j\\nAlter:https://t.co/kLpCAmhBed', 'fast_followers_count': 0, 'favourites_count': 2322, 'followers_count': 10993, 'friends_count': 55, 'has_custom_timelines': True, 'is_translator': False, 'listed_count': 6, 'location': '', 'media_count': 91, 'name': 'Praneeth Hanumantwo', 'normal_followers_count': 10993, 'possibly_sensitive': False, 'profile_image_url_https': 'https://pbs.twimg.com/profile_images/1436648964657278977/Mik4LbUR_normal.jpg', 'screen_name': 'phanumantwo', 'statuses_count': 467, 'translator_type': 'none', 'verified': False, 'withheld_in_countries': [], 'id_str': '1436648860982464518'}, 'id': '1734331027907301593', 'conversation_id': '1734330913679675563', 'full_text': 'The frustrating part is it hardly tries to rise above the mediocrity of the mainstream cinema that it is satires. Wished it owned the wackiness of the idea and took more risks. Like when you acknowledge that the heroine is a \"brainless\" prop in the commercial movie setup..', 'reply_count': 1, 'retweet_count': 0, 'favorite_count': 44, 'hashtags': [], 'symbols': [], 'user_mentions': [], 'urls': [], 'media': [], 'url': 'https://twitter.com/phanumantwo/status/1734331027907301593', 'created_at': '2023-12-11T21:55:14.000Z', '#sort_index': '1734331027907301593', 'view_count': 4285, 'quote_count': 0, 'is_quote_tweet': False, 'replying_to_tweet': 'https://twitter.com/phanumantwo/status/1734330913679675563', 'is_retweet': False, 'is_pinned': False, 'is_truncated': False, 'startUrl': 'https://twitter.com/phanumantwo/status/1734331027907301593?s=20'}\n"
     ]
    }
   ],
   "source": [
    "from apify_client import ApifyClient\n",
    "\n",
    "# Initialize the ApifyClient with your API token\n",
    "client = ApifyClient(\"apify_api_2QGQH8DkI54nayPr5grpIauvPmWqFL3NwQ4M\")\n",
    "\n",
    "# Prepare the Actor input\n",
    "run_input = {\n",
    "    \"startUrls\": [{ \"url\": \"https://x.com/phanumantwo/status/1734331027907301593?s=20\" }],\n",
    "    \"tweetsDesired\": 100,\n",
    "    \"addUserInfo\": True,\n",
    "}\n",
    "\n",
    "# Run the Actor and wait for it to finish\n",
    "run = client.actor(\"KVJr35xjTw2XyvMeK\").call(run_input=run_input)\n",
    "\n",
    "# Fetch and print Actor results from the run's dataset (if there are any)\n",
    "for item in client.dataset(run[\"defaultDatasetId\"]).iterate_items():\n",
    "    print(item)"
   ]
  },
  {
   "cell_type": "code",
   "execution_count": 8,
   "metadata": {},
   "outputs": [
    {
     "name": "stdout",
     "output_type": "stream",
     "text": [
      "The frustrating part is it hardly tries to rise above the mediocrity of the mainstream cinema that it is satires. Wished it owned the wackiness of the idea and took more risks. Like when you acknowledge that the heroine is a \"brainless\" prop in the commercial movie setup..\n"
     ]
    }
   ],
   "source": [
    "for item in client.dataset(run[\"defaultDatasetId\"]).iterate_items():\n",
    "    print(item['full_text'])"
   ]
  }
 ],
 "metadata": {
  "kernelspec": {
   "display_name": "Python 3",
   "language": "python",
   "name": "python3"
  },
  "language_info": {
   "codemirror_mode": {
    "name": "ipython",
    "version": 3
   },
   "file_extension": ".py",
   "mimetype": "text/x-python",
   "name": "python",
   "nbconvert_exporter": "python",
   "pygments_lexer": "ipython3",
   "version": "3.11.6"
  }
 },
 "nbformat": 4,
 "nbformat_minor": 2
}
