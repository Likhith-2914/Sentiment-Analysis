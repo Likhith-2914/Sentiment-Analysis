{
 "cells": [
  {
   "cell_type": "code",
   "execution_count": 4,
   "metadata": {},
   "outputs": [
    {
     "name": "stdout",
     "output_type": "stream",
     "text": [
      "{'user': {'created_at': '2019-02-19T16:36:39.000Z', 'default_profile_image': False, 'description': 'Number 1 unaffiliated Online Political & Election News Portal ||  Follow and Turn Your Notifications On', 'fast_followers_count': 0, 'favourites_count': 5035, 'followers_count': 155475, 'friends_count': 102, 'has_custom_timelines': True, 'is_translator': False, 'listed_count': 229, 'location': '', 'media_count': 2604, 'name': 'Times Algebra', 'normal_followers_count': 155475, 'possibly_sensitive': False, 'profile_banner_url': 'https://pbs.twimg.com/profile_banners/1097897763445108738/1702243382', 'profile_image_url_https': 'https://pbs.twimg.com/profile_images/1450363341184983042/K3IBOU--_normal.jpg', 'screen_name': 'TimesAlgebraIND', 'statuses_count': 12202, 'translator_type': 'none', 'verified': False, 'withheld_in_countries': [], 'id_str': '1097897763445108738'}, 'id': '1734603626247782519', 'conversation_id': '1734603626247782519', 'full_text': 'BIG BREAKING NEWS - IT department now suspects that HUGE amount of jewellery and valuables are hidden under the soil inside the premises of Congress MP Dhiraj Sahu 😂🔥🔥\\n\\nInvestigation is now being done through Geo Surveillance System & other higher technologies ⚡\\n\\nRs 353 crore cash seized so far. This cash haul is the \"highest-ever\" in a single action by any probe agency in the country. HISTORIC 😂🔥', 'reply_count': 315, 'retweet_count': 3505, 'favorite_count': 18217, 'hashtags': [], 'symbols': [], 'user_mentions': [], 'urls': [], 'media': [{'media_url': 'https://pbs.twimg.com/media/GBKMzhBX0AAkH29.jpg', 'type': 'photo'}], 'url': 'https://twitter.com/TimesAlgebraIND/status/1734603626247782519', 'created_at': '2023-12-12T15:58:26.000Z', '#sort_index': '1734603626247782519', 'view_count': 1334125, 'quote_count': 114, 'is_quote_tweet': False, 'is_retweet': False, 'is_pinned': False, 'is_truncated': True, 'startUrl': 'https://twitter.com/TimesAlgebraIND/status/1734603626247782519'}\n"
     ]
    }
   ],
   "source": [
    "from apify_client import ApifyClient\n",
    "\n",
    "# Initialize the ApifyClient with your API token\n",
    "client = ApifyClient(\"apify_api_2QGQH8DkI54nayPr5grpIauvPmWqFL3NwQ4M\")\n",
    "\n",
    "# Prepare the Actor input\n",
    "run_input = {\n",
    "    \"startUrls\": [{ \"url\": \"https://twitter.com/TimesAlgebraIND/status/1734603626247782519\" }],\n",
    "    \"tweetsDesired\": 100,\n",
    "    \"addUserInfo\": True,\n",
    "}\n",
    "\n",
    "# Run the Actor and wait for it to finish\n",
    "run = client.actor(\"KVJr35xjTw2XyvMeK\").call(run_input=run_input)\n",
    "\n",
    "# Fetch and print Actor results from the run's dataset (if there are any)\n",
    "for item in client.dataset(run[\"defaultDatasetId\"]).iterate_items():\n",
    "    print(item)"
   ]
  },
  {
   "cell_type": "code",
   "execution_count": 6,
   "metadata": {},
   "outputs": [
    {
     "name": "stdout",
     "output_type": "stream",
     "text": [
      "BIG BREAKING NEWS - IT department now suspects that HUGE amount of jewellery and valuables are hidden under the soil inside the premises of Congress MP Dhiraj Sahu 😂🔥🔥\n",
      "\n",
      "Investigation is now being done through Geo Surveillance System & other higher technologies ⚡\n",
      "\n",
      "Rs 353 crore cash seized so far. This cash haul is the \"highest-ever\" in a single action by any probe agency in the country. HISTORIC 😂🔥\n"
     ]
    }
   ],
   "source": [
    "for item in client.dataset(run[\"defaultDatasetId\"]).iterate_items():\n",
    "    print(item['full_text'])"
   ]
  }
 ],
 "metadata": {
  "kernelspec": {
   "display_name": "Python 3",
   "language": "python",
   "name": "python3"
  },
  "language_info": {
   "codemirror_mode": {
    "name": "ipython",
    "version": 3
   },
   "file_extension": ".py",
   "mimetype": "text/x-python",
   "name": "python",
   "nbconvert_exporter": "python",
   "pygments_lexer": "ipython3",
   "version": "3.11.6"
  }
 },
 "nbformat": 4,
 "nbformat_minor": 2
}
